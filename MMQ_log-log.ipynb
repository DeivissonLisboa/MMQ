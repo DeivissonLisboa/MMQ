{
 "cells": [
  {
   "cell_type": "markdown",
   "id": "9be58da3",
   "metadata": {},
   "source": [
    "#**MMQ após linearização - Aplicado ao sistema de pêndulo simples**#"
   ]
  },
  {
   "cell_type": "code",
   "execution_count": 13,
   "id": "f1113f40",
   "metadata": {},
   "outputs": [],
   "source": [
    "#Importando as bibliotecas\n",
    "import numpy as np\n",
    "import math\n",
    "import matplotlib.pyplot as plt"
   ]
  },
  {
   "cell_type": "code",
   "execution_count": 61,
   "id": "a62de59f",
   "metadata": {},
   "outputs": [],
   "source": [
    "#Medidas coletadas\n",
    "# Xi comprimento do pêndulo simples\n",
    "#Yi : periodo de oscilação\n",
    "Li=np.array([0.07,0.16,0.28,0.4,0.69])\n",
    "Ti=np.array([0.48, 0.75, 1.0, 1.18, 1.6])"
   ]
  },
  {
   "cell_type": "markdown",
   "id": "c872537d",
   "metadata": {},
   "source": [
    "#**Gráfico das medidas obtidas**#"
   ]
  },
  {
   "cell_type": "code",
   "execution_count": 62,
   "id": "7c8025b4",
   "metadata": {},
   "outputs": [
    {
     "data": {
      "image/png": "[encoded data removed]",
      "text/plain": [
       "<Figure size 432x288 with 1 Axes>"
      ]
     },
     "metadata": {
      "needs_background": "light"
     },
     "output_type": "display_data"
    }
   ],
   "source": [
    "import matplotlib.pyplot as plt\n",
    "fig=plt.figure()\n",
    "ax=fig.add_axes([0,0,1,1])\n",
    "ax.scatter(Li, Ti, color='g')\n",
    "#ax.scatter(grades_range, boys_grades, color='b')\n",
    "ax.set_xlabel('Comprimento do fio L (m)')\n",
    "ax.set_ylabel('Período T (s)')\n",
    "ax.set_title('Gráfico do Pêndulo Simples')\n",
    "plt.show()"
   ]
  },
  {
   "cell_type": "markdown",
   "id": "fc2d196d",
   "metadata": {},
   "source": [
    "Como esperado pelo sistema os pontos não se comportam como uma reta. \n",
    "A alternativa é linearização por log-log."
   ]
  },
  {
   "cell_type": "markdown",
   "id": "30dfec52",
   "metadata": {},
   "source": [
    "**Gráfico log-log**"
   ]
  },
  {
   "cell_type": "code",
   "execution_count": 63,
   "id": "b1e98d3b",
   "metadata": {},
   "outputs": [
    {
     "name": "stderr",
     "output_type": "stream",
     "text": [
      "C:\\Users\\wsixt\\AppData\\Local\\Temp/ipykernel_26276/40356482.py:9: MatplotlibDeprecationWarning: The 'basex' parameter of __init__() has been renamed 'base' since Matplotlib 3.3; support for the old name will be dropped two minor releases later.\n",
      "  plt.loglog(basex=10, basey=10)\n",
      "C:\\Users\\wsixt\\AppData\\Local\\Temp/ipykernel_26276/40356482.py:9: MatplotlibDeprecationWarning: The 'basey' parameter of __init__() has been renamed 'base' since Matplotlib 3.3; support for the old name will be dropped two minor releases later.\n",
      "  plt.loglog(basex=10, basey=10)\n"
     ]
    },
    {
     "data": {
      "image/png": "[encoded data removed]",
      "text/plain": [
       "<Figure size 432x288 with 1 Axes>"
      ]
     },
     "metadata": {
      "needs_background": "light"
     },
     "output_type": "display_data"
    }
   ],
   "source": [
    "#Gráfico log-log\n",
    "# alpha : tom da cor\n",
    "#c='g' : cor verde\n",
    "plt.scatter(Li, Ti, c='r', alpha=0.6)\n",
    "plt.title('loglog T X L', fontsize=15)\n",
    "plt.xlabel('log(L) ', fontsize=13)\n",
    "plt.ylabel('log(T)', fontsize=13)\n",
    "# Changing to the log ticks at x and y axis using loglog\n",
    "plt.loglog(basex=10, basey=10)\n",
    "plt.grid(b=True, which='major', linewidth=2, linestyle='-')\n",
    "plt.grid(b=True, which='minor', linewidth=1, linestyle='--')\n",
    "plt.grid()"
   ]
  },
  {
   "cell_type": "markdown",
   "id": "623a8cdb",
   "metadata": {},
   "source": [
    "Agora que o comportamento é equivalente ao linear\n",
    "pode se aplicar o MMQ."
   ]
  },
  {
   "cell_type": "code",
   "execution_count": 64,
   "id": "5509a376",
   "metadata": {},
   "outputs": [
    {
     "name": "stdout",
     "output_type": "stream",
     "text": [
      "O somatorio de ln(L): -7.052161589758963 \n",
      " O somatorio de ln(T): -0.3861331798086725 \n",
      " O somatorio de ln(L)*ln(T): 2.1529551061557965 \n",
      " O somatorio de ln(L)^2: 13.02773733806517 \n",
      "\n",
      "O valor da constante a é 0.52 \n",
      " O valor da constante b é 0.66\n"
     ]
    }
   ],
   "source": [
    "# APlicando o MMQ\n",
    "\n",
    "#n significa o número de medida das variáveis\n",
    "n=5\n",
    "\n",
    "#aplicando o logaritmonas medidas Lie Ti\n",
    "l_L = np.log(Li)\n",
    "l_T = np.log(Ti)\n",
    "\n",
    "#Obtenção dos termos log(Xi^2) e log(Xi)*log(Yi)\n",
    "l_Li2=l_L**2\n",
    "l_LiTi=l_L*l_T\n",
    "\n",
    "a = (sum(l_L)*sum(l_T) -n*sum(l_LiTi))/(sum(l_L)**2 -n*sum(l_Li2))\n",
    "b = (sum(l_LiTi)*sum(l_L) - sum(l_Li2)*sum(l_T))/(sum(l_L)**2 -n*sum(l_Li2))\n",
    "print('O somatorio de ln(L):',sum(l_L),\"\\n\",'O somatorio de ln(T):',sum(l_T),\"\\n\",'O somatorio de ln(L)*ln(T):',sum(l_LiTi),\"\\n\",'O somatorio de ln(L)^2:',sum(l_Li2),\"\\n\")\n",
    "print(f'O valor da constante a é {a:,.2f}',\"\\n\",f'O valor da constante b é {b:,.2f}')"
   ]
  },
  {
   "cell_type": "markdown",
   "id": "c69b8cc0",
   "metadata": {},
   "source": [
    "#**Encontrando a aceleração da gravidade**#\n",
    "\n",
    "Comparando com a função tem -se que :\n",
    "\n",
    "g = (2*pi/k)^(1/2).\n",
    "\n",
    "Portanto, encontra se primeiro a constante chamada de k."
   ]
  },
  {
   "cell_type": "code",
   "execution_count": 65,
   "id": "b56dec7c",
   "metadata": {},
   "outputs": [
    {
     "data": {
      "text/plain": [
       "1.932881969283063"
      ]
     },
     "execution_count": 65,
     "metadata": {},
     "output_type": "execute_result"
    }
   ],
   "source": [
    "# Determinando o valor do coeficiente através de b.\n",
    "k=math.e ** b\n",
    "k"
   ]
  },
  {
   "cell_type": "code",
   "execution_count": 66,
   "id": "f5e13e72",
   "metadata": {},
   "outputs": [
    {
     "data": {
      "text/plain": [
       "10.566935757412232"
      ]
     },
     "execution_count": 66,
     "metadata": {},
     "output_type": "execute_result"
    }
   ],
   "source": [
    "# assim g é:\n",
    "g=(2*math.pi/k)**2\n",
    "g"
   ]
  },
  {
   "cell_type": "markdown",
   "id": "b137ae16",
   "metadata": {},
   "source": [
    "#**O valor da constante potencial**#\n",
    "\n",
    "#O valor da constante está dentro do previsto.\n",
    "\n",
    "n=a\n",
    "\n",
    "n=0,52"
   ]
  },
  {
   "cell_type": "markdown",
   "id": "40a3771a",
   "metadata": {},
   "source": [
    "**Cálculo da discrepância para aceleração da gravidade (g) \n",
    "e para constante potencial (1/2).**\n",
    "\n"
   ]
  },
  {
   "cell_type": "code",
   "execution_count": 73,
   "id": "ded0febd",
   "metadata": {},
   "outputs": [
    {
     "name": "stdout",
     "output_type": "stream",
     "text": [
      "A discrepância de g é 8%\n"
     ]
    }
   ],
   "source": [
    "#Discrepância da aceleração da gravidade (g)\n",
    "gref=9.7833 # aceleração em Salvador\n",
    "Dg= (abs(g-gref)/gref)\n",
    "print(\"A discrepância de g é {0:.0%}\".format(Dg))"
   ]
  },
  {
   "cell_type": "code",
   "execution_count": 79,
   "id": "a1de68a8",
   "metadata": {},
   "outputs": [
    {
     "name": "stdout",
     "output_type": "stream",
     "text": [
      "A discrepância da constante é 4%\n"
     ]
    }
   ],
   "source": [
    "#Discrepância da constante (1/2)\n",
    "c=1/2\n",
    "Dc= (abs(a-c)/c)\n",
    "print(\"A discrepância da constante é {0:.0%}\".format(Dc))"
   ]
  },
  {
   "cell_type": "code",
   "execution_count": null,
   "id": "629a0c51",
   "metadata": {},
   "outputs": [],
   "source": []
  }
 ],
 "metadata": {
  "kernelspec": {
   "display_name": "Python 3 (ipykernel)",
   "language": "python",
   "name": "python3"
  },
  "language_info": {
   "codemirror_mode": {
    "name": "ipython",
    "version": 3
   },
   "file_extension": ".py",
   "mimetype": "text/x-python",
   "name": "python",
   "nbconvert_exporter": "python",
   "pygments_lexer": "ipython3",
   "version": "3.9.7"
  }
 },
 "nbformat": 4,
 "nbformat_minor": 5
}
